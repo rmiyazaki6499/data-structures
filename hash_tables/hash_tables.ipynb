{
 "cells": [
  {
   "cell_type": "markdown",
   "metadata": {},
   "source": [
    "# Hash Tables"
   ]
  },
  {
   "cell_type": "markdown",
   "metadata": {},
   "source": [
    "A hash table (hash map) is a data structure that implements an associative array abstract data type, a structure that can map keys to values. A hash table uses a hash function to compute an index, also called a hash code, into an array of buckets or slots, from which the desired value can be found.\n",
    "\n",
    "source: \n",
    "https://en.wikipedia.org/wiki/Hash_table"
   ]
  },
  {
   "cell_type": "markdown",
   "metadata": {},
   "source": [
    "## Node class for Hash Tables"
   ]
  },
  {
   "cell_type": "code",
   "execution_count": 1,
   "metadata": {},
   "outputs": [],
   "source": [
    "class Node(object):\n",
    "  def __init__(self, key, value):\n",
    "    self.key = key\n",
    "    self.value = value\n",
    "    self.next = None"
   ]
  },
  {
   "cell_type": "markdown",
   "metadata": {},
   "source": [
    "## Hash Table class"
   ]
  },
  {
   "cell_type": "code",
   "execution_count": 2,
   "metadata": {},
   "outputs": [],
   "source": [
    "class Hash_Table(object):\n",
    "    def __init__(self, size=10):\n",
    "        self.array = [None] * size\n",
    "        \n",
    "    def index_of_key(self, key):\n",
    "        if key:\n",
    "            hash_key = hash(key)\n",
    "            index = hash_key % len(self.array)\n",
    "            return index\n",
    "        raise ValueError('Key must not be None')\n",
    "        \n",
    "    def insert(self, key, value):\n",
    "        #if key and value:\n",
    "            index = self.index_of_key(key)\n",
    "            new_node = Node(key, value)\n",
    "            if not self.array[index]:\n",
    "                self.array[index] = new_node\n",
    "            else:\n",
    "                current = self.array[index]\n",
    "                if current.key == key:\n",
    "                    current.value = value\n",
    "                    return\n",
    "                while current.next:\n",
    "                    if current.next.key == key:\n",
    "                        current.next.value = value\n",
    "                        return\n",
    "                    current = current.next\n",
    "                current.next = new_node\n",
    "        #raise ValueError('Key or Value must not be None')\n",
    "        \n",
    "    def get(self, key):\n",
    "        if key:\n",
    "            index = self.index_of_key(key)\n",
    "            node = self.array[index]\n",
    "            while node:\n",
    "                if node.key == key:\n",
    "                    return node.value\n",
    "            raise ValueError('Key does not exist in this Hash Table')\n",
    "        raise ValueError('Key must not be None')\n",
    "        \n",
    "    def print_hash(self):\n",
    "        hash_table = []\n",
    "        for node in self.array:\n",
    "            if node:\n",
    "                kv_pair = None\n",
    "                while node:\n",
    "                    kv_pair = f'\\'{node.key}\\': \\'{node.value}\\''\n",
    "                    hash_table.append(kv_pair)\n",
    "                    node = node.next\n",
    "        hash_table_string = ', '.join(hash_table)\n",
    "        hash_table_final = '{' + hash_table_string + '}'\n",
    "        print(f'{hash_table_final}')\n",
    "        \n",
    "    def delete(self, key):\n",
    "        index = self.index_of_key(key)\n",
    "        node = self.array[index]\n",
    "        if node:\n",
    "            if node.key == key:\n",
    "                if node.next:\n",
    "                    node = node.next\n",
    "                    return\n",
    "                else:\n",
    "                    node = None\n",
    "                    return\n",
    "            else:\n",
    "                if node.next:\n",
    "                    while node.next:\n",
    "                        if node.next.key == key:\n",
    "                            node.next = node.next.next\n",
    "                            print(f'Deleted {key}')\n",
    "                            return\n",
    "                        node = node.next\n",
    "        raise ValueError('Key does not exist in this Hash Table')"
   ]
  },
  {
   "cell_type": "code",
   "execution_count": 3,
   "metadata": {},
   "outputs": [
    {
     "name": "stdout",
     "output_type": "stream",
     "text": [
      "Adding some key/value pairs...\n",
      "The value of python is awesome and the index is at 2\n",
      "{'python': 'awesome', 'Jennie': 'and Jay love asm', 'c': 'fun', 'N': 'queens'}\n",
      "<---------------------->\n",
      "{'python': 'awesome', 'Betty': 'Holberton', '98': 'Battery Street', 'Jennie': 'and Jay love asm', 'Asterix': 'Obelix', 'c': 'isfun', 'N': 'queens'}\n",
      "<---------------------->\n",
      "Deleted N\n",
      "{'python': 'awesome', 'Betty': 'Holberton', '98': 'Battery Street', 'Jennie': 'and Jay love asm', 'Asterix': 'Obelix', 'c': 'isfun'}\n"
     ]
    }
   ],
   "source": [
    "hash_table = Hash_Table()\n",
    "\n",
    "print('Adding some key/value pairs...')\n",
    "\n",
    "hash_table.insert('c', 'fun')\n",
    "hash_table.insert('python', 'awesome')\n",
    "hash_table.insert('Jennie', 'and Jay love asm')\n",
    "hash_table.insert('N', 'queens')\n",
    "\n",
    "key = 'python'\n",
    "value = hash_table.get(key)\n",
    "index = hash_table.index_of_key(key)\n",
    "print(f'The value of {key} is {value} and the index is at {index}')\n",
    "\n",
    "hash_table.print_hash()\n",
    "\n",
    "print('<---------------------->')\n",
    "\n",
    "hash_table.insert('Asterix', 'Obelix')\n",
    "hash_table.insert('Betty', 'Holberton')\n",
    "hash_table.insert('98', 'Battery Street')\n",
    "hash_table.insert('c', 'isfun')\n",
    "\n",
    "hash_table.print_hash()\n",
    "\n",
    "print('<---------------------->')\n",
    "key = 'N'\n",
    "\n",
    "\n",
    "hash_table.delete(key)\n",
    "\n",
    "hash_table.print_hash()"
   ]
  }
 ],
 "metadata": {
  "kernelspec": {
   "display_name": "Python 3",
   "language": "python",
   "name": "python3"
  },
  "language_info": {
   "codemirror_mode": {
    "name": "ipython",
    "version": 3
   },
   "file_extension": ".py",
   "mimetype": "text/x-python",
   "name": "python",
   "nbconvert_exporter": "python",
   "pygments_lexer": "ipython3",
   "version": "3.7.6"
  },
  "toc": {
   "base_numbering": 1,
   "nav_menu": {},
   "number_sections": true,
   "sideBar": true,
   "skip_h1_title": false,
   "title_cell": "Table of Contents",
   "title_sidebar": "Contents",
   "toc_cell": false,
   "toc_position": {},
   "toc_section_display": true,
   "toc_window_display": false
  },
  "varInspector": {
   "cols": {
    "lenName": 16,
    "lenType": 16,
    "lenVar": 40
   },
   "kernels_config": {
    "python": {
     "delete_cmd_postfix": "",
     "delete_cmd_prefix": "del ",
     "library": "var_list.py",
     "varRefreshCmd": "print(var_dic_list())"
    },
    "r": {
     "delete_cmd_postfix": ") ",
     "delete_cmd_prefix": "rm(",
     "library": "var_list.r",
     "varRefreshCmd": "cat(var_dic_list()) "
    }
   },
   "types_to_exclude": [
    "module",
    "function",
    "builtin_function_or_method",
    "instance",
    "_Feature"
   ],
   "window_display": false
  }
 },
 "nbformat": 4,
 "nbformat_minor": 2
}
