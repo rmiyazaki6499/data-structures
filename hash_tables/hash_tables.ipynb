{
 "cells": [
  {
   "cell_type": "markdown",
   "metadata": {},
   "source": [
    "# Hash Tables"
   ]
  },
  {
   "cell_type": "markdown",
   "metadata": {},
   "source": [
    "A hash table (hash map) is a data structure that implements an associative array abstract data type, a structure that can map keys to values. A hash table uses a hash function to compute an index, also called a hash code, into an array of buckets or slots, from which the desired value can be found.\n",
    "\n",
    "source: \n",
    "https://en.wikipedia.org/wiki/Hash_table"
   ]
  },
  {
   "cell_type": "markdown",
   "metadata": {},
   "source": [
    "## Node class for Hash Tables"
   ]
  },
  {
   "cell_type": "code",
   "execution_count": 1,
   "metadata": {},
   "outputs": [],
   "source": [
    "class Node(object):\n",
    "  def __init__(self, key, value):\n",
    "    self.key = key\n",
    "    self.value = value\n",
    "    self.next = None"
   ]
  },
  {
   "cell_type": "markdown",
   "metadata": {},
   "source": [
    "## Hash Table class"
   ]
  },
  {
   "cell_type": "code",
   "execution_count": null,
   "metadata": {},
   "outputs": [],
   "source": [
    "class Hash_Table(object):\n",
    "    def __init__(self, size=10):\n",
    "        self.array = [None] * size\n",
    "        \n",
    "    def index_of_key(self, key):\n",
    "        if key:\n",
    "            hash_key = hash(key)\n",
    "            index = hash_key % len(self.array)\n",
    "            return index\n",
    "        raise ValueError('Key must not be None')\n",
    "        \n",
    "    def insert(self, key, value):\n",
    "        if key and value:\n",
    "            index = index_of_key(key)\n",
    "            new_node = Node(key, value)\n",
    "            if not self.array[index]:\n",
    "                self.array[index] = new_node\n",
    "            else:\n",
    "                current = self.array[index]\n",
    "                while current.next:\n",
    "                    current = current.next\n",
    "                current.next = new_node\n",
    "        raise ValueError('Key or Value must not be None')\n",
    "        \n",
    "    def get(self, key):\n",
    "        if key:\n",
    "            index = index_of_key(key)\n",
    "            node = self.array[index]\n",
    "            while node:\n",
    "                if node.key == key:\n",
    "                    return node.value\n",
    "            raise ValueError('Key does not exist in this Hash Table')\n",
    "        raise ValueError('Key must not be None')"
   ]
  },
  {
   "cell_type": "code",
   "execution_count": null,
   "metadata": {},
   "outputs": [],
   "source": []
  }
 ],
 "metadata": {
  "kernelspec": {
   "display_name": "Python 3",
   "language": "python",
   "name": "python3"
  },
  "language_info": {
   "codemirror_mode": {
    "name": "ipython",
    "version": 3
   },
   "file_extension": ".py",
   "mimetype": "text/x-python",
   "name": "python",
   "nbconvert_exporter": "python",
   "pygments_lexer": "ipython3",
   "version": "3.7.6"
  },
  "toc": {
   "base_numbering": 1,
   "nav_menu": {},
   "number_sections": true,
   "sideBar": true,
   "skip_h1_title": false,
   "title_cell": "Table of Contents",
   "title_sidebar": "Contents",
   "toc_cell": false,
   "toc_position": {},
   "toc_section_display": true,
   "toc_window_display": false
  },
  "varInspector": {
   "cols": {
    "lenName": 16,
    "lenType": 16,
    "lenVar": 40
   },
   "kernels_config": {
    "python": {
     "delete_cmd_postfix": "",
     "delete_cmd_prefix": "del ",
     "library": "var_list.py",
     "varRefreshCmd": "print(var_dic_list())"
    },
    "r": {
     "delete_cmd_postfix": ") ",
     "delete_cmd_prefix": "rm(",
     "library": "var_list.r",
     "varRefreshCmd": "cat(var_dic_list()) "
    }
   },
   "types_to_exclude": [
    "module",
    "function",
    "builtin_function_or_method",
    "instance",
    "_Feature"
   ],
   "window_display": false
  }
 },
 "nbformat": 4,
 "nbformat_minor": 2
}
