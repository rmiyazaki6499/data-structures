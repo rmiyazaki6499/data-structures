{
 "cells": [
  {
   "cell_type": "markdown",
   "metadata": {},
   "source": [
    "# Binary Search Trees"
   ]
  },
  {
   "cell_type": "markdown",
   "metadata": {},
   "source": [
    "**Binary Search Trees (BST)**, sometimes called ordered or sorted binary trees, are a particular type of container: a data structure that stores \"items\" (such as numbers, names etc.) in memory. They allow fast lookup, addition and removal of items, and can be used to implement either dynamic sets of items, or lookup tables that allow finding an item by its key (e.g., finding the phone number of a person by name).\n",
    "\n",
    "Binary search trees keep their keys in sorted order, so that lookup and other operations can use the principle of binary search: when looking for a key in a tree (or a place to insert a new key), they traverse the tree from root to leaf, making comparisons to keys stored in the nodes of the tree and deciding, on the basis of the comparison, to continue searching in the left or right subtrees. \n",
    "\n",
    "**This makes searching through data much quicker, allowing a time complexity of an average O(log n).**\n",
    "\n",
    "We will use the Python Library binarytree to visualize our tree to help us better understand what is going on.\n",
    "\n",
    "Make sure that you have the binarytree library installed. If not, find the details here: https://pypi.org/project/binarytree/"
   ]
  },
  {
   "cell_type": "code",
   "execution_count": 1,
   "metadata": {},
   "outputs": [],
   "source": [
    "from binarytree import Node"
   ]
  },
  {
   "cell_type": "markdown",
   "metadata": {},
   "source": [
    "# Check if a Binary Tree is a Binary Search Tree"
   ]
  },
  {
   "cell_type": "markdown",
   "metadata": {},
   "source": [
    "Binary Search Tree is a node-based binary tree data structure which has the following properties:\n",
    "\n",
    "1. The left subtree of a node contains only nodes with keys lesser than the node’s key.\n",
    "2. The right subtree of a node contains only nodes with keys greater than the node’s key.\n",
    "3. The left and right subtree each must also be a binary search tree.\n",
    "\n",
    "So we will traverse the binary tree checking for these qualities"
   ]
  },
  {
   "cell_type": "code",
   "execution_count": 2,
   "metadata": {},
   "outputs": [
    {
     "name": "stdout",
     "output_type": "stream",
     "text": [
      "\n",
      "    1______\n",
      "   /       \\\n",
      "  2       __3\n",
      " /       /   \\\n",
      "4       5     6\n",
      "       / \\\n",
      "      7   8\n",
      "\n",
      "This tree is not a BST\n",
      "\n",
      "    __5___\n",
      "   /      \\\n",
      "  2       _21\n",
      " / \\     /   \\\n",
      "1   3   19    25\n",
      "\n",
      "This tree is a BST\n"
     ]
    }
   ],
   "source": [
    "def check_BST(root, lower = None, higher = None):\n",
    "    if not root:\n",
    "        return True\n",
    "    if lower and root.value < lower:\n",
    "        return False\n",
    "    if higher and root.value > higher:\n",
    "        return False\n",
    "    return check_BST(root.left, lower, root.value) and check_BST(root.right, root.value, higher)\n",
    "\n",
    "def if_BST(root):\n",
    "    if check_BST(root):\n",
    "        print(\"This tree is a BST\")\n",
    "    else:\n",
    "        print(\"This tree is not a BST\")\n",
    "        \n",
    "\n",
    "root0 = Node(1)\n",
    "root0.left = Node(2)\n",
    "root0.right = Node(3)\n",
    "root0.left.left = Node(4)\n",
    "root0.right.left = Node(5)\n",
    "root0.right.left.left = Node(7)\n",
    "root0.right.left.right = Node(8)\n",
    "root0.right.right = Node(6)\n",
    "\n",
    "root = Node(5)\n",
    "root.left = Node(2)\n",
    "root.left.left = Node(1)\n",
    "root.left.right = Node(3)\n",
    "root.right = Node(21)\n",
    "root.right.left = Node(19)\n",
    "root.right.right = Node(25)\n",
    "\n",
    "print(root0)\n",
    "if_BST(root0)\n",
    "print(root)\n",
    "if_BST(root)"
   ]
  },
  {
   "cell_type": "markdown",
   "metadata": {},
   "source": [
    "**This solution has the time complexity of O(n) because we will have to traverse through every node in the tree to check its values**"
   ]
  },
  {
   "cell_type": "markdown",
   "metadata": {},
   "source": [
    "# Searching through a Binary Search Tree"
   ]
  },
  {
   "cell_type": "markdown",
   "metadata": {},
   "source": [
    "To search a given key in Binary Search Tree, we first compare it with root, if the key is present at root, we return root. \n",
    "\n",
    "If key is greater than root’s key, we recur for right subtree of root node. Otherwise we recur for left subtree."
   ]
  },
  {
   "cell_type": "code",
   "execution_count": 3,
   "metadata": {},
   "outputs": [
    {
     "name": "stdout",
     "output_type": "stream",
     "text": [
      "\n",
      "    __5___\n",
      "   /      \\\n",
      "  2       _21\n",
      " / \\     /   \\\n",
      "1   3   19    25\n",
      "\n",
      "The Key: 19 is in this Binary Search Tree\n"
     ]
    }
   ],
   "source": [
    "def search_BST(root, key):\n",
    "    if not root or root.value == key:\n",
    "        return root\n",
    "    if root.value < key:\n",
    "        return search_BST(root.right, key)\n",
    "    return search_BST(root.left, key)\n",
    "\n",
    "print(root)\n",
    "key = 19\n",
    "print(\"The Key: %d is in this Binary Search Tree\" %(search_BST(root, key)).value)"
   ]
  },
  {
   "cell_type": "markdown",
   "metadata": {},
   "source": [
    "# Insert a Node into a Binary Search Tree"
   ]
  },
  {
   "cell_type": "markdown",
   "metadata": {},
   "source": [
    "A new Node is always inserted at a leaf. We start searching a key from root till we hit a leaf node. Once a leaf node is found, the new node is added as a child of the leaf node."
   ]
  },
  {
   "cell_type": "code",
   "execution_count": 4,
   "metadata": {},
   "outputs": [
    {
     "name": "stdout",
     "output_type": "stream",
     "text": [
      "\n",
      "    __5___\n",
      "   /      \\\n",
      "  2       _21\n",
      " / \\     /   \\\n",
      "1   3   19    25\n",
      "\n",
      "1 2 3 5 19 21 25 \n",
      "\n",
      "    __5_____\n",
      "   /        \\\n",
      "  2         _21\n",
      " / \\       /   \\\n",
      "1   3     19    25\n",
      "         /\n",
      "        7\n",
      "\n",
      "1 2 3 5 7 19 21 25 "
     ]
    }
   ],
   "source": [
    "def insert_BST(root, node):\n",
    "    if not root:\n",
    "        root = node\n",
    "    else:\n",
    "        if root.value < node.value:\n",
    "            if not root.right:\n",
    "             root.right = node\n",
    "            else:\n",
    "             insert_BST(root.right, node)\n",
    "        else:\n",
    "            if not root.left:\n",
    "                root.left = node\n",
    "            else:\n",
    "               insert_BST(root.left, node)\n",
    "            \n",
    "def inorder_print(root):\n",
    "    if root:\n",
    "        left = inorder_print(root.left)\n",
    "        print(root.value, end=\" \")\n",
    "        right = inorder_print(root.right)\n",
    "        \n",
    "print(root)\n",
    "inorder_print(root)\n",
    "print()\n",
    "insert_BST(root, Node(7))\n",
    "print(root)\n",
    "inorder_print(root)"
   ]
  },
  {
   "cell_type": "markdown",
   "metadata": {},
   "source": [
    "**This solution has the time complexity of O(n) because we will have to traverse through every node in the tree to check its values**"
   ]
  },
  {
   "cell_type": "markdown",
   "metadata": {},
   "source": [
    "# Converting an Array into a Binary Search Tree"
   ]
  },
  {
   "cell_type": "markdown",
   "metadata": {},
   "source": [
    "Often times differnt data structures are converted to a Binary Search Tree to allow the utility and benefit of a Binary Search Tree. Namely optimizing the search time complexity it would take to look for a value.\n",
    "\n",
    "We will convert an array into a BST through Breadth Level Traversal with a queue data structure using **deque** which we will import from the **collections** library"
   ]
  },
  {
   "cell_type": "code",
   "execution_count": 5,
   "metadata": {},
   "outputs": [],
   "source": [
    "from collections import deque"
   ]
  },
  {
   "cell_type": "code",
   "execution_count": 6,
   "metadata": {},
   "outputs": [
    {
     "name": "stdout",
     "output_type": "stream",
     "text": [
      "\n",
      "                              __________95\n",
      "                             /            \\\n",
      "                     _______79___          98\n",
      "                    /            \\\n",
      "         __________47___         _87\n",
      "        /               \\       /   \\\n",
      "    ___21___            _68    84    91\n",
      "   /        \\          /\n",
      "  2         _32       62\n",
      " / \\       /   \\\n",
      "1   20    22    34\n",
      "\n",
      "1 2 20 21 22 32 34 47 62 68 79 84 87 91 95 98 "
     ]
    }
   ],
   "source": [
    "array = [\n",
    "    79, 47, 68, 87, 84, 91, 21, 32, 34, 2,\n",
    "    20, 22, 98, 1, 62, 95\n",
    "]\n",
    "    \n",
    "def array_BST(array):\n",
    "    deque(array)\n",
    "    root = Node(array.pop())\n",
    "    for element in array:\n",
    "        node = Node(element)\n",
    "        insert_BST(root, node)\n",
    "    return root\n",
    "\n",
    "root = array_BST(array)\n",
    "print(root)\n",
    "inorder_print(root)"
   ]
  },
  {
   "cell_type": "markdown",
   "metadata": {},
   "source": [
    "**This solution has the time complexity of O(n) because we will have to traverse through every node in the tree. However due to the queue the space complexity would also be of O(n) compared to O(h) in a depth level traversal where h is height**"
   ]
  },
  {
   "cell_type": "markdown",
   "metadata": {},
   "source": [
    "# Deleting a Node in a Binary Search Tree"
   ]
  },
  {
   "cell_type": "markdown",
   "metadata": {},
   "source": [
    "When deleting a node in a Binary Search Tree we will use the Algorith:\n",
    "\n",
    "1. Starting at root, find the deepest and rightmost node in binary tree and node which we want to delete.\n",
    "2. Replace the deepest rightmost node’s data with node to be deleted.\n",
    "3. Then delete the deepest rightmost node.\n",
    "\n",
    "There are four different situations we can come across when we find the node we are looking to delete:\n",
    "1. The Node may have no children\n",
    "2. The Node may have one left child\n",
    "3. The Node may have one right child\n",
    "4. The Node may have both children\n",
    "\n",
    "In each of these cases we will have to find the inorder successor to replace the deleted node."
   ]
  },
  {
   "cell_type": "code",
   "execution_count": 7,
   "metadata": {},
   "outputs": [
    {
     "name": "stdout",
     "output_type": "stream",
     "text": [
      "\n",
      "                              __________95\n",
      "                             /            \\\n",
      "                     _______79___          98\n",
      "                    /            \\\n",
      "         __________47___         _87\n",
      "        /               \\       /   \\\n",
      "    ___21___            _68    84    91\n",
      "   /        \\          /\n",
      "  2         _32       62\n",
      " / \\       /   \\\n",
      "1   20    22    34\n",
      "\n",
      "\n",
      "                              __________95\n",
      "                             /            \\\n",
      "                     _______79___          98\n",
      "                    /            \\\n",
      "         __________47___         _91\n",
      "        /               \\       /   \\\n",
      "    ___21___            _68    84    91\n",
      "   /        \\          /\n",
      "  2         _32       62\n",
      " / \\       /   \\\n",
      "1   20    22    34\n",
      "\n",
      "\n",
      "                           __________95\n",
      "                          /            \\\n",
      "                     ____79___          98\n",
      "                    /         \\\n",
      "         __________47         _91\n",
      "        /            \\       /   \\\n",
      "    ___21___          62    84    91\n",
      "   /        \\\n",
      "  2         _32\n",
      " / \\       /   \\\n",
      "1   20    22    34\n",
      "\n",
      "\n",
      "                        __________95\n",
      "                       /            \\\n",
      "                     _79___          98\n",
      "                    /      \\\n",
      "         __________47      _91\n",
      "        /                 /   \\\n",
      "    ___21___             84    91\n",
      "   /        \\\n",
      "  2         _32\n",
      " / \\       /   \\\n",
      "1   20    22    34\n",
      "\n",
      "\n",
      "                     __________95\n",
      "                    /            \\\n",
      "         __________79___          98\n",
      "        /               \\\n",
      "    ___21___            _91\n",
      "   /        \\          /   \\\n",
      "  2         _32       84    91\n",
      " / \\       /   \\\n",
      "1   20    22    34\n",
      "\n"
     ]
    }
   ],
   "source": [
    "def delete_BST(root, key):\n",
    "    if not root:\n",
    "        return Node(key)\n",
    "    # Recursively traverse the tree to find the node\n",
    "    if key < root.value:\n",
    "        root.left = delete_BST(root.left, key)\n",
    "        return root\n",
    "    elif root.value < key:\n",
    "        root.right = delete_BST(root.right, key)\n",
    "        return root\n",
    "     # We arrive at the node to be deleted\n",
    "     # If one of the children is empty\n",
    "    else:\n",
    "        if not root.left:\n",
    "            temp = root.right\n",
    "            root = None\n",
    "            return temp\n",
    "        elif not root.right:\n",
    "            temp = root.left\n",
    "            root = None\n",
    "            return temp\n",
    "     # if both children exists\n",
    "        else:\n",
    "            parent = root.right\n",
    "            successor = root.right\n",
    "            while successor.left:\n",
    "                parent = successor\n",
    "                successor = successor.left\n",
    "            parent.left = successor.right\n",
    "            root.value = successor.value\n",
    "            successor = None\n",
    "            return root\n",
    "        \n",
    "print(root)\n",
    "delete_BST(root, 87)\n",
    "print(root)\n",
    "delete_BST(root, 68)\n",
    "print(root)\n",
    "delete_BST(root, 62)\n",
    "print(root)\n",
    "delete_BST(root, 47)\n",
    "print(root)"
   ]
  },
  {
   "cell_type": "markdown",
   "metadata": {},
   "source": [
    "**This solution has the time complexity of O(n) because we will have to traverse through the node path in the tree once to find the node to delete**"
   ]
  }
 ],
 "metadata": {
  "kernelspec": {
   "display_name": "Python 3",
   "language": "python",
   "name": "python3"
  },
  "language_info": {
   "codemirror_mode": {
    "name": "ipython",
    "version": 3
   },
   "file_extension": ".py",
   "mimetype": "text/x-python",
   "name": "python",
   "nbconvert_exporter": "python",
   "pygments_lexer": "ipython3",
   "version": "3.7.5"
  },
  "toc": {
   "base_numbering": 1,
   "nav_menu": {},
   "number_sections": true,
   "sideBar": true,
   "skip_h1_title": false,
   "title_cell": "Table of Contents",
   "title_sidebar": "Contents",
   "toc_cell": false,
   "toc_position": {},
   "toc_section_display": true,
   "toc_window_display": false
  },
  "varInspector": {
   "cols": {
    "lenName": 16,
    "lenType": 16,
    "lenVar": 40
   },
   "kernels_config": {
    "python": {
     "delete_cmd_postfix": "",
     "delete_cmd_prefix": "del ",
     "library": "var_list.py",
     "varRefreshCmd": "print(var_dic_list())"
    },
    "r": {
     "delete_cmd_postfix": ") ",
     "delete_cmd_prefix": "rm(",
     "library": "var_list.r",
     "varRefreshCmd": "cat(var_dic_list()) "
    }
   },
   "types_to_exclude": [
    "module",
    "function",
    "builtin_function_or_method",
    "instance",
    "_Feature"
   ],
   "window_display": false
  }
 },
 "nbformat": 4,
 "nbformat_minor": 2
}
