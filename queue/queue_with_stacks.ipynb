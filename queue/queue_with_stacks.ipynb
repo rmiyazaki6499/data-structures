{
 "cells": [
  {
   "cell_type": "markdown",
   "metadata": {},
   "source": [
    "# Implementing a Queue with Stacks"
   ]
  },
  {
   "cell_type": "markdown",
   "metadata": {},
   "source": [
    "## Node Class"
   ]
  },
  {
   "cell_type": "code",
   "execution_count": 1,
   "metadata": {},
   "outputs": [],
   "source": [
    "class Node(object):\n",
    "  def __init__(self, x):\n",
    "    self.data = x\n",
    "    self.next = None"
   ]
  },
  {
   "cell_type": "markdown",
   "metadata": {},
   "source": [
    "## Stack Class"
   ]
  },
  {
   "cell_type": "code",
   "execution_count": 2,
   "metadata": {},
   "outputs": [],
   "source": [
    "class Stack():\n",
    "    def __init__(self):\n",
    "        self.head = None\n",
    "        self.length = 0\n",
    "        \n",
    "    def empty(self):\n",
    "        if not self.head:\n",
    "            return True\n",
    "        else:\n",
    "            return False\n",
    "        \n",
    "    def size(self):\n",
    "        return self.length\n",
    "\n",
    "    def peek(self):\n",
    "        return self.head.data\n",
    "    \n",
    "    def push(self, value):\n",
    "        if not value:\n",
    "            raise ValueError('Value must not be None')\n",
    "        \n",
    "        if not self.head:\n",
    "            self.head = Node(value)\n",
    "            self.length += 1\n",
    "\n",
    "        else:\n",
    "            new_node = Node(value)\n",
    "            new_node.next = self.head\n",
    "            self.head = new_node\n",
    "            self.length += 1\n",
    "            \n",
    "    def pop(self):\n",
    "        if self.head:\n",
    "            if self.length == 1:\n",
    "                pop_data = self.head.data\n",
    "                self.length -= 1\n",
    "                self.head = None\n",
    "                return pop_data\n",
    "            else:\n",
    "                pop_data = self.head.data\n",
    "                self.head = self.head.next\n",
    "                self.length -= 1\n",
    "                return pop_data\n",
    "        else:\n",
    "            print('Stack is Empty')\n",
    "            \n",
    "    def print_stack(self):\n",
    "        if self.head:\n",
    "            stack = []\n",
    "            current = self.head\n",
    "            while current:\n",
    "                stack.append(str(current.data))\n",
    "                current = current.next\n",
    "            print(' -> '.join(stack))"
   ]
  },
  {
   "cell_type": "markdown",
   "metadata": {},
   "source": [
    "## Queue Class"
   ]
  },
  {
   "cell_type": "code",
   "execution_count": 3,
   "metadata": {},
   "outputs": [],
   "source": [
    "class Queue():\n",
    "    def __init__(self):\n",
    "        self.stack1 = Stack()\n",
    "        self.stack2 = Stack()\n",
    "        self.first = None\n",
    "        self.last = None\n",
    "        self.length = 0\n",
    "        \n",
    "    def empty(self):\n",
    "        if self.stack1.head:\n",
    "            return False\n",
    "        else:\n",
    "            return True\n",
    "        \n",
    "    def size(self):\n",
    "        return self.length\n",
    "    \n",
    "    def front(self):\n",
    "        if self.first:\n",
    "            return str(self.first)\n",
    "    \n",
    "    def rear(self):\n",
    "        if self.last:\n",
    "            return str(self.last)\n",
    "    \n",
    "    def enQueue(self, value):\n",
    "        if not value:\n",
    "            raise ValueError('Value must not be None')\n",
    "        if not self.stack1.head:\n",
    "            self.first = value\n",
    "        self.last = value\n",
    "        self.length += 1\n",
    "        self.stack1.push(value)\n",
    "            \n",
    "    def deQueue(self):\n",
    "        if self.stack1.head:\n",
    "            while self.stack1.head:\n",
    "                pop_data = self.stack1.pop()\n",
    "                self.stack2.push(pop_data)\n",
    "            final_pop = self.stack2.pop()\n",
    "            self.first = self.stack2.peek()\n",
    "            self.length -= 1\n",
    "            while self.stack2.head:\n",
    "                pop_data = self.stack2.pop()\n",
    "                self.stack1.push(pop_data)\n",
    "            return final_pop\n",
    "        else:\n",
    "            print('Queue is Empty')\n",
    "            \n",
    "    def print_queue(self):\n",
    "        if self.stack1.head:\n",
    "            queue = []\n",
    "            current = self.stack1.head\n",
    "            while current:\n",
    "                queue.append(str(current.data))\n",
    "                current = current.next\n",
    "            print(' -> '.join(queue))"
   ]
  },
  {
   "cell_type": "markdown",
   "metadata": {},
   "source": [
    "## Testing the Queue methods"
   ]
  },
  {
   "cell_type": "code",
   "execution_count": 4,
   "metadata": {},
   "outputs": [
    {
     "name": "stdout",
     "output_type": "stream",
     "text": [
      "This Queue is Empty: True\n",
      "Adding a few Nodes\n",
      "The top of the queue is 9\n",
      "The rear of the queue is 6\n",
      "6 -> 7 -> 8 -> 9\n",
      "The size of the queue is 4\n",
      "This Queue is Empty: False\n",
      "Removing a Node\n",
      "The top of the queue is 8\n",
      "The rear of the queue is 6\n",
      "The size of the queue is 3\n",
      "6 -> 7 -> 8\n"
     ]
    }
   ],
   "source": [
    "queue = Queue()\n",
    "\n",
    "is_empty = queue.empty()\n",
    "print(f'This Queue is Empty: {is_empty}')\n",
    "\n",
    "print('Adding a few Nodes')\n",
    "\n",
    "queue.enQueue(9)\n",
    "queue.enQueue(8)\n",
    "queue.enQueue(7)\n",
    "queue.enQueue(6)\n",
    "\n",
    "first = queue.front()\n",
    "print(f'The top of the queue is {first}')\n",
    "\n",
    "last = queue.rear()\n",
    "print(f'The rear of the queue is {last}')\n",
    "\n",
    "queue.print_queue()\n",
    "\n",
    "size = queue.size()\n",
    "print(f'The size of the queue is {size}')\n",
    "\n",
    "is_empty = queue.empty()\n",
    "print(f'This Queue is Empty: {is_empty}')\n",
    "\n",
    "print('Removing a Node')\n",
    "queue.deQueue()\n",
    "\n",
    "first = queue.front()\n",
    "print(f'The top of the queue is {first}')\n",
    "\n",
    "last = queue.rear()\n",
    "print(f'The rear of the queue is {last}')\n",
    "\n",
    "size = queue.size()\n",
    "print(f'The size of the queue is {size}')\n",
    "\n",
    "queue.print_queue()\n"
   ]
  }
 ],
 "metadata": {
  "kernelspec": {
   "display_name": "Python 3",
   "language": "python",
   "name": "python3"
  },
  "language_info": {
   "codemirror_mode": {
    "name": "ipython",
    "version": 3
   },
   "file_extension": ".py",
   "mimetype": "text/x-python",
   "name": "python",
   "nbconvert_exporter": "python",
   "pygments_lexer": "ipython3",
   "version": "3.7.6"
  },
  "toc": {
   "base_numbering": 1,
   "nav_menu": {},
   "number_sections": true,
   "sideBar": true,
   "skip_h1_title": false,
   "title_cell": "Table of Contents",
   "title_sidebar": "Contents",
   "toc_cell": false,
   "toc_position": {},
   "toc_section_display": true,
   "toc_window_display": false
  },
  "varInspector": {
   "cols": {
    "lenName": 16,
    "lenType": 16,
    "lenVar": 40
   },
   "kernels_config": {
    "python": {
     "delete_cmd_postfix": "",
     "delete_cmd_prefix": "del ",
     "library": "var_list.py",
     "varRefreshCmd": "print(var_dic_list())"
    },
    "r": {
     "delete_cmd_postfix": ") ",
     "delete_cmd_prefix": "rm(",
     "library": "var_list.r",
     "varRefreshCmd": "cat(var_dic_list()) "
    }
   },
   "types_to_exclude": [
    "module",
    "function",
    "builtin_function_or_method",
    "instance",
    "_Feature"
   ],
   "window_display": false
  }
 },
 "nbformat": 4,
 "nbformat_minor": 2
}
