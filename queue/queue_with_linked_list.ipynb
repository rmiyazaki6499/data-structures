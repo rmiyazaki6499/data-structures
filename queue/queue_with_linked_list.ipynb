{
 "cells": [
  {
   "cell_type": "markdown",
   "metadata": {},
   "source": [
    "# Implementing a Queue with a Linked List"
   ]
  },
  {
   "cell_type": "markdown",
   "metadata": {},
   "source": [
    "## Node Class"
   ]
  },
  {
   "cell_type": "code",
   "execution_count": 1,
   "metadata": {},
   "outputs": [],
   "source": [
    "class Node(object):\n",
    "  def __init__(self, x):\n",
    "    self.data = x\n",
    "    self.next = None"
   ]
  },
  {
   "cell_type": "markdown",
   "metadata": {},
   "source": [
    "## Queue Class"
   ]
  },
  {
   "cell_type": "code",
   "execution_count": 2,
   "metadata": {},
   "outputs": [],
   "source": [
    "class Queue():\n",
    "    def __init__(self):\n",
    "        self.head = None\n",
    "        self.tail = None\n",
    "        self.length = 0\n",
    "        \n",
    "    def empty(self):\n",
    "        if self.head:\n",
    "            return False\n",
    "        else:\n",
    "            return True\n",
    "        \n",
    "    def size(self):\n",
    "        return self.length\n",
    "\n",
    "    def front(self):\n",
    "        return self.head.data\n",
    "    \n",
    "    def rear(self):\n",
    "        return self.tail.data\n",
    "    \n",
    "    def enQueue(self, value):\n",
    "        if not value:\n",
    "            raise ValueError('Value must not be None')\n",
    "            \n",
    "        new_node = Node(value)\n",
    "        if not self.head:\n",
    "            self.head = new_node\n",
    "            self.tail = new_node\n",
    "            self.length += 1\n",
    "        else:\n",
    "            self.tail.next = new_node\n",
    "            self.tail = new_node\n",
    "            self.length += 1\n",
    "            \n",
    "    def deQueue(self):\n",
    "        if self.head:\n",
    "            pop = self.head.data\n",
    "            if self.length == 1:\n",
    "                self.length -= 1\n",
    "                self.head = None\n",
    "            else:\n",
    "                self.head = self.head.next\n",
    "                self.length -= 1\n",
    "            return pop\n",
    "        else:\n",
    "            print('Stack is Empty')\n",
    "            \n",
    "    def print_queue(self):\n",
    "        if self.head:\n",
    "            queue = []\n",
    "            current = self.head\n",
    "            while current:\n",
    "                queue.append(str(current.data))\n",
    "                current = current.next\n",
    "            print(' -> '.join(queue))"
   ]
  },
  {
   "cell_type": "markdown",
   "metadata": {},
   "source": [
    "## Testing the Queue methods"
   ]
  },
  {
   "cell_type": "code",
   "execution_count": 3,
   "metadata": {},
   "outputs": [
    {
     "name": "stdout",
     "output_type": "stream",
     "text": [
      "This Queue is Empty: True\n",
      "Adding a few Nodes\n",
      "The top of the queue is 9\n",
      "The rear of the queue is 6\n",
      "9 -> 8 -> 7 -> 6\n",
      "The size of the queue is 4\n",
      "This Queue is Empty: False\n",
      "Removing a Node\n",
      "The top of the queue is 8\n",
      "The rear of the queue is 6\n",
      "The size of the queue is 3\n",
      "8 -> 7 -> 6\n"
     ]
    }
   ],
   "source": [
    "queue = Queue()\n",
    "\n",
    "is_empty = queue.empty()\n",
    "print(f'This Queue is Empty: {is_empty}')\n",
    "\n",
    "print('Adding a few Nodes')\n",
    "\n",
    "queue.enQueue(9)\n",
    "queue.enQueue(8)\n",
    "queue.enQueue(7)\n",
    "queue.enQueue(6)\n",
    "\n",
    "front = queue.front()\n",
    "print(f'The top of the queue is {front}')\n",
    "\n",
    "rear = queue.rear()\n",
    "print(f'The rear of the queue is {rear}')\n",
    "\n",
    "queue.print_queue()\n",
    "\n",
    "size = queue.size()\n",
    "print(f'The size of the queue is {size}')\n",
    "\n",
    "is_empty = queue.empty()\n",
    "print(f'This Queue is Empty: {is_empty}')\n",
    "\n",
    "print('Removing a Node')\n",
    "queue.deQueue()\n",
    "\n",
    "front = queue.front()\n",
    "print(f'The top of the queue is {front}')\n",
    "\n",
    "rear = queue.rear()\n",
    "print(f'The rear of the queue is {rear}')\n",
    "\n",
    "size = queue.size()\n",
    "print(f'The size of the queue is {size}')\n",
    "\n",
    "queue.print_queue()\n"
   ]
  }
 ],
 "metadata": {
  "kernelspec": {
   "display_name": "Python 3",
   "language": "python",
   "name": "python3"
  },
  "language_info": {
   "codemirror_mode": {
    "name": "ipython",
    "version": 3
   },
   "file_extension": ".py",
   "mimetype": "text/x-python",
   "name": "python",
   "nbconvert_exporter": "python",
   "pygments_lexer": "ipython3",
   "version": "3.7.6"
  },
  "toc": {
   "base_numbering": 1,
   "nav_menu": {},
   "number_sections": true,
   "sideBar": true,
   "skip_h1_title": false,
   "title_cell": "Table of Contents",
   "title_sidebar": "Contents",
   "toc_cell": false,
   "toc_position": {},
   "toc_section_display": true,
   "toc_window_display": false
  },
  "varInspector": {
   "cols": {
    "lenName": 16,
    "lenType": 16,
    "lenVar": 40
   },
   "kernels_config": {
    "python": {
     "delete_cmd_postfix": "",
     "delete_cmd_prefix": "del ",
     "library": "var_list.py",
     "varRefreshCmd": "print(var_dic_list())"
    },
    "r": {
     "delete_cmd_postfix": ") ",
     "delete_cmd_prefix": "rm(",
     "library": "var_list.r",
     "varRefreshCmd": "cat(var_dic_list()) "
    }
   },
   "types_to_exclude": [
    "module",
    "function",
    "builtin_function_or_method",
    "instance",
    "_Feature"
   ],
   "window_display": false
  }
 },
 "nbformat": 4,
 "nbformat_minor": 2
}
