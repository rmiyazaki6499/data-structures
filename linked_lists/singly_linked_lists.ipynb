{
 "cells": [
  {
   "cell_type": "markdown",
   "metadata": {},
   "source": [
    "# Singly Linked List"
   ]
  },
  {
   "cell_type": "markdown",
   "metadata": {},
   "source": [
    "## Node class for Singly Linked List"
   ]
  },
  {
   "cell_type": "code",
   "execution_count": 1,
   "metadata": {},
   "outputs": [],
   "source": [
    "# Definition for singly-linked list.\n",
    "class ListNode(object):\n",
    "  def __init__(self, x):\n",
    "    self.data = x\n",
    "    self.next = None"
   ]
  },
  {
   "cell_type": "markdown",
   "metadata": {},
   "source": [
    "## Print Linked List"
   ]
  },
  {
   "cell_type": "markdown",
   "metadata": {},
   "source": [
    "A function that prints all the elements of a linked list"
   ]
  },
  {
   "cell_type": "code",
   "execution_count": 2,
   "metadata": {},
   "outputs": [],
   "source": [
    "def print_linked_list(node):\n",
    "    linked_list = []\n",
    "    while(node):\n",
    "        linked_list.append(str(node.data))\n",
    "        node = node.next\n",
    "    print(' -> '.join(linked_list))"
   ]
  },
  {
   "cell_type": "code",
   "execution_count": 3,
   "metadata": {},
   "outputs": [],
   "source": [
    "linked_list = ListNode(2)\n",
    "linked_list.next = ListNode(4)\n",
    "linked_list.next.next = ListNode(3)\n",
    "linked_list.next.next.next = ListNode(5)\n"
   ]
  },
  {
   "cell_type": "code",
   "execution_count": 4,
   "metadata": {},
   "outputs": [
    {
     "name": "stdout",
     "output_type": "stream",
     "text": [
      "2 -> 4 -> 3 -> 5\n"
     ]
    }
   ],
   "source": [
    "# Should print 2, 4, 3, 5\n",
    "print_linked_list(linked_list)"
   ]
  },
  {
   "cell_type": "markdown",
   "metadata": {},
   "source": [
    "## Length of a Linked List (Iterative)"
   ]
  },
  {
   "cell_type": "markdown",
   "metadata": {},
   "source": [
    "A function that returns the number of elements in a linked list."
   ]
  },
  {
   "cell_type": "code",
   "execution_count": 5,
   "metadata": {},
   "outputs": [],
   "source": [
    "def linked_list_length_i(linked_list):\n",
    "    counter = 0\n",
    "    current_node = linked_list\n",
    "    while(current_node):\n",
    "        counter += 1\n",
    "        current_node = current_node.next\n",
    "    return counter"
   ]
  },
  {
   "cell_type": "code",
   "execution_count": 6,
   "metadata": {},
   "outputs": [
    {
     "data": {
      "text/plain": [
       "4"
      ]
     },
     "execution_count": 6,
     "metadata": {},
     "output_type": "execute_result"
    }
   ],
   "source": [
    "# Should print 4\n",
    "linked_list_length_i(linked_list)"
   ]
  },
  {
   "cell_type": "markdown",
   "metadata": {},
   "source": [
    "## Length of a Linked List (Recursive)"
   ]
  },
  {
   "cell_type": "code",
   "execution_count": 7,
   "metadata": {},
   "outputs": [],
   "source": [
    "def linked_list_length_r(node):\n",
    "    if(not node):\n",
    "        return 0\n",
    "    return 1 + linked_list_length_r(node.next)\n",
    "\n",
    "def linked_list_length_r_wrapper(linked_list):\n",
    "    return linked_list_length_r(linked_list)"
   ]
  },
  {
   "cell_type": "code",
   "execution_count": 8,
   "metadata": {},
   "outputs": [
    {
     "data": {
      "text/plain": [
       "4"
      ]
     },
     "execution_count": 8,
     "metadata": {},
     "output_type": "execute_result"
    }
   ],
   "source": [
    "# Should print 4\n",
    "linked_list_length_r_wrapper(linked_list)"
   ]
  },
  {
   "cell_type": "markdown",
   "metadata": {},
   "source": [
    "## Add a Node at the beginning of a Linked List"
   ]
  },
  {
   "cell_type": "markdown",
   "metadata": {},
   "source": [
    "A function that adds a new node at the beginning of a linked list."
   ]
  },
  {
   "cell_type": "code",
   "execution_count": 9,
   "metadata": {},
   "outputs": [],
   "source": [
    "def add_node_at_head(linked_list, value):\n",
    "    if value:\n",
    "        head = ListNode(value)\n",
    "        head.next = linked_list\n",
    "    return head"
   ]
  },
  {
   "cell_type": "code",
   "execution_count": 10,
   "metadata": {},
   "outputs": [
    {
     "name": "stdout",
     "output_type": "stream",
     "text": [
      "2 -> 4 -> 3 -> 5\n",
      "<--------------------------->\n",
      "6 -> 2 -> 4 -> 3 -> 5\n"
     ]
    }
   ],
   "source": [
    "print_linked_list(linked_list)\n",
    "print('<--------------------------->')\n",
    "linked_list = add_node_at_head(linked_list, 6)\n",
    "print_linked_list(linked_list)\n",
    "# Should print 6, 2, 4, 3, 5"
   ]
  },
  {
   "cell_type": "markdown",
   "metadata": {},
   "source": [
    "## Add a Node at the end of a Linked List"
   ]
  },
  {
   "cell_type": "markdown",
   "metadata": {},
   "source": [
    "A function that adds a new node at the end of a linked list."
   ]
  },
  {
   "cell_type": "code",
   "execution_count": 11,
   "metadata": {},
   "outputs": [],
   "source": [
    "def add_node_at_tail(linked_list, value):\n",
    "    if value:\n",
    "        tail = ListNode(value)\n",
    "        node = linked_list\n",
    "        while(node.next):\n",
    "            node = node.next\n",
    "        node.next = tail\n",
    "    return linked_list"
   ]
  },
  {
   "cell_type": "code",
   "execution_count": 12,
   "metadata": {},
   "outputs": [
    {
     "name": "stdout",
     "output_type": "stream",
     "text": [
      "6 -> 2 -> 4 -> 3 -> 5\n",
      "<--------------------------->\n",
      "6 -> 2 -> 4 -> 3 -> 5 -> 7\n"
     ]
    }
   ],
   "source": [
    "print_linked_list(linked_list)\n",
    "print('<--------------------------->')\n",
    "linked_list = add_node_at_tail(linked_list, 7)\n",
    "print_linked_list(linked_list)\n",
    "# Should print 6, 2, 4, 3, 5, 7"
   ]
  },
  {
   "cell_type": "markdown",
   "metadata": {},
   "source": [
    "## Print Linked List and return length"
   ]
  },
  {
   "cell_type": "markdown",
   "metadata": {},
   "source": [
    "A function that prints a linked list and returns the length of the list"
   ]
  },
  {
   "cell_type": "code",
   "execution_count": 13,
   "metadata": {},
   "outputs": [],
   "source": [
    "def print_linked_list_v2(node):\n",
    "    linked_list = []\n",
    "    counter = 0\n",
    "    while(node):\n",
    "        linked_list.append(str(node.data))\n",
    "        node = node.next\n",
    "        counter += 1\n",
    "    print(' -> '.join(linked_list))\n",
    "    return counter"
   ]
  },
  {
   "cell_type": "code",
   "execution_count": 14,
   "metadata": {},
   "outputs": [
    {
     "name": "stdout",
     "output_type": "stream",
     "text": [
      "6 -> 2 -> 4 -> 3 -> 5 -> 7\n",
      "There are 6 nodes in this linked list\n"
     ]
    }
   ],
   "source": [
    "length = print_linked_list_v2(linked_list)\n",
    "print(f'There are {length} nodes in this linked list')\n",
    "# Should print 6, 2, 4, 3, 5, 7 and the length should be 6"
   ]
  },
  {
   "cell_type": "markdown",
   "metadata": {},
   "source": [
    "## Pop the Head Node"
   ]
  },
  {
   "cell_type": "markdown",
   "metadata": {},
   "source": [
    "A function that deletes the head node of a linked list, and returns the head node’s data (n)."
   ]
  },
  {
   "cell_type": "code",
   "execution_count": 15,
   "metadata": {},
   "outputs": [],
   "source": [
    "def pop_linked_list(linked_list):\n",
    "    head = linked_list\n",
    "    linked_list = linked_list.next\n",
    "    return linked_list, head.data"
   ]
  },
  {
   "cell_type": "code",
   "execution_count": 16,
   "metadata": {},
   "outputs": [
    {
     "name": "stdout",
     "output_type": "stream",
     "text": [
      "6 -> 2 -> 4 -> 3 -> 5 -> 7\n",
      "2 -> 4 -> 3 -> 5 -> 7\n",
      "The old head's data is 6\n"
     ]
    }
   ],
   "source": [
    "print_linked_list_v2(linked_list)\n",
    "linked_list, chopped_head = pop_linked_list(linked_list)\n",
    "print_linked_list_v2(linked_list)\n",
    "print(f'The old head\\'s data is {chopped_head}')"
   ]
  },
  {
   "cell_type": "markdown",
   "metadata": {},
   "source": [
    "## Get node at index"
   ]
  },
  {
   "cell_type": "markdown",
   "metadata": {},
   "source": [
    "A function that returns the nth node of a linked list, where index is the index of the node, starting at 0."
   ]
  },
  {
   "cell_type": "code",
   "execution_count": 17,
   "metadata": {},
   "outputs": [],
   "source": [
    "def get_node_at_index(head_node, index):\n",
    "    if head_node:\n",
    "        current_node = head_node\n",
    "        if index:\n",
    "            if index > linked_list_length_i(linked_list) or index < 0:\n",
    "                raise ValueError('Index outside the length of the linked list')\n",
    "            for i in range(index):\n",
    "                current_node = current_node.next\n",
    "            return current_node.data\n",
    "        raise ValueError('Index must not be None')\n",
    "    raise ValueError('Head Node must not be None')"
   ]
  },
  {
   "cell_type": "code",
   "execution_count": 18,
   "metadata": {},
   "outputs": [
    {
     "name": "stdout",
     "output_type": "stream",
     "text": [
      "The Node at index 3 is 5\n"
     ]
    }
   ],
   "source": [
    "# index_data = get_node_at_index(None, None)\n",
    "# index_data = get_node_at_index(linked_list, None)\n",
    "index = 3\n",
    "index_data = get_node_at_index(linked_list, index)\n",
    "print(f'The Node at index {index} is {index_data}')\n",
    "# Node at Index 3 should be 5"
   ]
  },
  {
   "cell_type": "markdown",
   "metadata": {},
   "source": [
    "## Sum of a Linked List"
   ]
  },
  {
   "cell_type": "markdown",
   "metadata": {},
   "source": [
    "Assuming all values in a linked list are integers or floats, add all values of a linked list."
   ]
  },
  {
   "cell_type": "code",
   "execution_count": 19,
   "metadata": {},
   "outputs": [],
   "source": [
    "def add_linked_list(head_node):\n",
    "    if head_node:\n",
    "        node = head_node\n",
    "        count = 0\n",
    "        while(node):\n",
    "            if not isinstance(node.data, (int, float)):\n",
    "                raise TypeError('Node data must be either an integer or float')\n",
    "            count += node.data\n",
    "            node = node.next\n",
    "        return count\n",
    "    raise ValueError('Head Node must not be None')"
   ]
  },
  {
   "cell_type": "code",
   "execution_count": 20,
   "metadata": {},
   "outputs": [
    {
     "name": "stdout",
     "output_type": "stream",
     "text": [
      "The sum of the linked list is 21\n"
     ]
    }
   ],
   "source": [
    "sum_of_linked_list = add_linked_list(linked_list)\n",
    "print(f'The sum of the linked list is {sum_of_linked_list}')\n",
    "# Should print 21"
   ]
  },
  {
   "cell_type": "markdown",
   "metadata": {},
   "source": [
    "## Insert Node into Linked List at index"
   ]
  },
  {
   "cell_type": "markdown",
   "metadata": {},
   "source": [
    "Insert a new Node at a given index, where the index starts at 0. "
   ]
  },
  {
   "cell_type": "code",
   "execution_count": 21,
   "metadata": {},
   "outputs": [],
   "source": [
    "def insert_node(head_node, index, value):\n",
    "    if head_node and isinstance(head_node, ListNode):\n",
    "        if index and isinstance(index, int):\n",
    "            if index < 0 or index >= linked_list_length_i(linked_list):\n",
    "                raise ValueError('Index outside the length of the linked list')\n",
    "            if value:\n",
    "                if index == 0:\n",
    "                    add_node_at_head(head_node, value)\n",
    "                else:\n",
    "                    node = head_node\n",
    "                    for i in range(index - 1):\n",
    "                        node = node.next\n",
    "                    new_node = ListNode(value)\n",
    "                    next_node_ref = node.next\n",
    "                    node.next = new_node\n",
    "                    new_node.next = next_node_ref\n",
    "                    return head_node, new_node.data\n",
    "        raise TypeError(f'index must be an integer')\n",
    "    raise TypeError(f'Head Node must be a ListNode Class')"
   ]
  },
  {
   "cell_type": "code",
   "execution_count": 22,
   "metadata": {},
   "outputs": [
    {
     "name": "stdout",
     "output_type": "stream",
     "text": [
      "2 -> 4 -> 3 -> 5 -> 7\n",
      "<----------------------------->\n",
      "2 -> 4 -> 6 -> 3 -> 5 -> 7\n",
      "The inserted node value is 6\n"
     ]
    }
   ],
   "source": [
    "print_linked_list_v2(linked_list)\n",
    "print('<----------------------------->')\n",
    "linked_list, new_node_data = insert_node(linked_list, 2, 6)\n",
    "print_linked_list_v2(linked_list)\n",
    "print(f'The inserted node value is {new_node_data}')\n",
    "# Should print the new linked list 2 -> 4 -> 6 -> 3 -> 5 -> 7 and new node value is 6"
   ]
  },
  {
   "cell_type": "markdown",
   "metadata": {},
   "source": [
    "## Delete Node of a Linked List at index"
   ]
  },
  {
   "cell_type": "markdown",
   "metadata": {},
   "source": [
    "Delete a new Node at a given index, where the index starts at 0. \n",
    "Return True if successful and False if unsuccessful"
   ]
  },
  {
   "cell_type": "code",
   "execution_count": 23,
   "metadata": {},
   "outputs": [],
   "source": [
    "def delete_node(head_node, index):\n",
    "    if head_node and isinstance(head_node, ListNode):\n",
    "        if index and isinstance(index, int):\n",
    "            if index < 0 or index >= linked_list_length_i(linked_list):\n",
    "                raise ValueError('Index outside the length of the linked list')\n",
    "            if index == 0:\n",
    "                head_node = head_node.next\n",
    "                return True\n",
    "            node = head_node\n",
    "            for i in range(index - 1):\n",
    "                node = node.next\n",
    "            node.next = node.next.next\n",
    "            return True\n",
    "        return False\n",
    "    return False"
   ]
  },
  {
   "cell_type": "code",
   "execution_count": 24,
   "metadata": {},
   "outputs": [
    {
     "name": "stdout",
     "output_type": "stream",
     "text": [
      "2 -> 4 -> 6 -> 3 -> 5 -> 7\n",
      "<----------------------------->\n",
      "2 -> 4 -> 3 -> 5 -> 7\n"
     ]
    },
    {
     "data": {
      "text/plain": [
       "5"
      ]
     },
     "execution_count": 24,
     "metadata": {},
     "output_type": "execute_result"
    }
   ],
   "source": [
    "print_linked_list_v2(linked_list)\n",
    "print('<----------------------------->')\n",
    "delete_node(linked_list, 2)\n",
    "print_linked_list_v2(linked_list)\n",
    "# Should print the new linked list 2 -> 4 -> 3 -> 5 -> 7"
   ]
  },
  {
   "cell_type": "markdown",
   "metadata": {},
   "source": [
    "## Reverse a Linked List"
   ]
  },
  {
   "cell_type": "markdown",
   "metadata": {},
   "source": [
    "Reverse a linked list"
   ]
  },
  {
   "cell_type": "code",
   "execution_count": 25,
   "metadata": {},
   "outputs": [],
   "source": [
    "def reverse_linked_list(head_node):\n",
    "    if head_node:\n",
    "        prev_node = None\n",
    "        current_node = head_node\n",
    "        next_node = None\n",
    "        while current_node:\n",
    "            next_node = current_node.next\n",
    "            current_node.next = prev_node\n",
    "            prev_node = current_node\n",
    "            current_node = next_node\n",
    "        head_node = prev_node\n",
    "        return head_node\n",
    "    raise ValueError('Head Node must not be None')"
   ]
  },
  {
   "cell_type": "code",
   "execution_count": 26,
   "metadata": {},
   "outputs": [
    {
     "name": "stdout",
     "output_type": "stream",
     "text": [
      "2 -> 4 -> 3 -> 5 -> 7\n",
      "<----------------------------->\n",
      "7 -> 5 -> 3 -> 4 -> 2\n"
     ]
    },
    {
     "data": {
      "text/plain": [
       "5"
      ]
     },
     "execution_count": 26,
     "metadata": {},
     "output_type": "execute_result"
    }
   ],
   "source": [
    "print_linked_list_v2(linked_list)\n",
    "print('<----------------------------->')\n",
    "linked_list = reverse_linked_list(linked_list)\n",
    "print_linked_list_v2(linked_list)\n",
    "# Should print 7 -> 5 -> 3 -> 4 -> 2"
   ]
  },
  {
   "cell_type": "markdown",
   "metadata": {},
   "source": [
    "## Check if a Linked List is a loop"
   ]
  },
  {
   "cell_type": "markdown",
   "metadata": {},
   "source": [
    "Find if a linked list is a loop"
   ]
  },
  {
   "cell_type": "code",
   "execution_count": 27,
   "metadata": {},
   "outputs": [],
   "source": [
    "def check_loop(head_node):\n",
    "    tortoise = head_node\n",
    "    hare = head_node\n",
    "    while hare and hare.next:\n",
    "        tortoise = tortoise.next\n",
    "        hare = hare.next.next\n",
    "        if tortoise == hare:\n",
    "            hare = head_node\n",
    "            while tortoise and hare:\n",
    "                tortoise = tortoise.next\n",
    "                hare = hare.next\n",
    "                if tortoise == hare:\n",
    "                    return True\n",
    "    return False\n",
    "\n",
    "def print_if_loop(head_node):\n",
    "    if check_loop(head_node):\n",
    "        print('This linked list is a loop')\n",
    "    else:\n",
    "        print('This linked list is not a loop')"
   ]
  },
  {
   "cell_type": "code",
   "execution_count": 28,
   "metadata": {},
   "outputs": [
    {
     "name": "stdout",
     "output_type": "stream",
     "text": [
      "7 -> 5 -> 3 -> 4 -> 2\n",
      "<----------------------------->\n",
      "This linked list is not a loop\n",
      "<----------------------------->\n",
      "Adding head of linked list to the end of the list\n",
      "This linked list is a loop\n"
     ]
    }
   ],
   "source": [
    "print_linked_list_v2(linked_list)\n",
    "print('<----------------------------->')\n",
    "print_if_loop(linked_list)\n",
    "print('<----------------------------->')\n",
    "print('Adding head of linked list to the end of the list')\n",
    "linked_list.next.next.next.next.next = linked_list\n",
    "print_if_loop(linked_list)"
   ]
  }
 ],
 "metadata": {
  "kernelspec": {
   "display_name": "Python 3",
   "language": "python",
   "name": "python3"
  },
  "language_info": {
   "codemirror_mode": {
    "name": "ipython",
    "version": 3
   },
   "file_extension": ".py",
   "mimetype": "text/x-python",
   "name": "python",
   "nbconvert_exporter": "python",
   "pygments_lexer": "ipython3",
   "version": "3.7.6"
  },
  "toc": {
   "base_numbering": 1,
   "nav_menu": {},
   "number_sections": true,
   "sideBar": true,
   "skip_h1_title": false,
   "title_cell": "Table of Contents",
   "title_sidebar": "Contents",
   "toc_cell": false,
   "toc_position": {},
   "toc_section_display": true,
   "toc_window_display": false
  },
  "varInspector": {
   "cols": {
    "lenName": 16,
    "lenType": 16,
    "lenVar": 40
   },
   "kernels_config": {
    "python": {
     "delete_cmd_postfix": "",
     "delete_cmd_prefix": "del ",
     "library": "var_list.py",
     "varRefreshCmd": "print(var_dic_list())"
    },
    "r": {
     "delete_cmd_postfix": ") ",
     "delete_cmd_prefix": "rm(",
     "library": "var_list.r",
     "varRefreshCmd": "cat(var_dic_list()) "
    }
   },
   "types_to_exclude": [
    "module",
    "function",
    "builtin_function_or_method",
    "instance",
    "_Feature"
   ],
   "window_display": false
  }
 },
 "nbformat": 4,
 "nbformat_minor": 2
}
