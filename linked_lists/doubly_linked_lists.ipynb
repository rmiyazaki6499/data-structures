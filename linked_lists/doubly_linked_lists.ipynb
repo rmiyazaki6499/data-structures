{
 "cells": [
  {
   "cell_type": "markdown",
   "metadata": {},
   "source": [
    "# Doubly Linked List"
   ]
  },
  {
   "cell_type": "markdown",
   "metadata": {},
   "source": [
    "A linked list is a linear collection of data elements, whose order is not given by their physical placement in memory. Instead, each element points to the next. It is a data structure consisting of a collection of nodes which together represent a sequence.\n",
    "\n",
    "A doubly linked list is a linked list where each node has reference to oth the next and previous node."
   ]
  },
  {
   "cell_type": "markdown",
   "metadata": {},
   "source": [
    "## Node class for Doubly Linked List"
   ]
  },
  {
   "cell_type": "code",
   "execution_count": 3,
   "metadata": {},
   "outputs": [],
   "source": [
    "class Node(object):\n",
    "  def __init__(self, x):\n",
    "    self.data = x\n",
    "    self.next = None\n",
    "    self.prev = None"
   ]
  },
  {
   "cell_type": "markdown",
   "metadata": {},
   "source": [
    "## Creating a Doubly Linked List"
   ]
  },
  {
   "cell_type": "code",
   "execution_count": 4,
   "metadata": {},
   "outputs": [],
   "source": [
    "linked_list = Node(2)\n",
    "linked_list.next = Node(4)\n",
    "linked_list.next.prev = linked_list\n",
    "linked_list.next.next = Node(3)\n",
    "linked_list.next.next.prev = linked_list.next\n",
    "linked_list.next.next.next = Node(5)\n",
    "linked_list.next.next.next.prev = linked_list.next.next"
   ]
  },
  {
   "cell_type": "markdown",
   "metadata": {},
   "source": [
    "## Printing a Doubly Linked List"
   ]
  },
  {
   "cell_type": "code",
   "execution_count": 5,
   "metadata": {},
   "outputs": [],
   "source": [
    "def print_doubly(node):\n",
    "    linked_list = []\n",
    "    while node:\n",
    "        linked_list.append(str(node.data))\n",
    "        node = node.next\n",
    "    print(' <-> '.join(linked_list))"
   ]
  },
  {
   "cell_type": "code",
   "execution_count": 6,
   "metadata": {},
   "outputs": [
    {
     "name": "stdout",
     "output_type": "stream",
     "text": [
      "2 <-> 4 <-> 3 <-> 5\n"
     ]
    }
   ],
   "source": [
    "# Should print 2, 4, 3, 5\n",
    "print_doubly(linked_list)"
   ]
  },
  {
   "cell_type": "markdown",
   "metadata": {},
   "source": [
    "## Printing a Doubly Linked List in Reverse"
   ]
  },
  {
   "cell_type": "code",
   "execution_count": 7,
   "metadata": {},
   "outputs": [],
   "source": [
    "def print_doubly_reverse(node):\n",
    "    linked_list = []\n",
    "    while node.next:\n",
    "        node = node.next\n",
    "    while node:\n",
    "        linked_list.append(str(node.data))\n",
    "        node = node.prev\n",
    "    print(' <-> '.join(linked_list))"
   ]
  },
  {
   "cell_type": "code",
   "execution_count": 8,
   "metadata": {},
   "outputs": [
    {
     "name": "stdout",
     "output_type": "stream",
     "text": [
      "5 <-> 3 <-> 4 <-> 2\n"
     ]
    }
   ],
   "source": [
    "# Should print 5, 3, 4, 2\n",
    "print_doubly_reverse(linked_list)"
   ]
  },
  {
   "cell_type": "markdown",
   "metadata": {},
   "source": [
    "## Length of a Linked List (Iterative)"
   ]
  },
  {
   "cell_type": "code",
   "execution_count": 9,
   "metadata": {},
   "outputs": [],
   "source": [
    "def linked_list_length(head):\n",
    "    current = head\n",
    "    counter = 0\n",
    "    while current:\n",
    "        counter += 1\n",
    "        current = current.next\n",
    "    return counter"
   ]
  },
  {
   "cell_type": "code",
   "execution_count": 10,
   "metadata": {},
   "outputs": [
    {
     "name": "stdout",
     "output_type": "stream",
     "text": [
      "The length of this linked list is 4\n"
     ]
    }
   ],
   "source": [
    "length = linked_list_length(linked_list)\n",
    "print(f'The length of this linked list is {length}')\n",
    "# Should print 4 as length"
   ]
  },
  {
   "cell_type": "markdown",
   "metadata": {},
   "source": [
    "## Length of a Linked List (Recursive)"
   ]
  },
  {
   "cell_type": "code",
   "execution_count": 11,
   "metadata": {},
   "outputs": [],
   "source": [
    "def linked_list_length_recursive(node):\n",
    "    if not node:\n",
    "        return 0\n",
    "    else:\n",
    "        return 1 + linked_list_length_recursive(node.next)"
   ]
  },
  {
   "cell_type": "code",
   "execution_count": 12,
   "metadata": {},
   "outputs": [
    {
     "name": "stdout",
     "output_type": "stream",
     "text": [
      "The length of this linked list is 4\n"
     ]
    }
   ],
   "source": [
    "length = linked_list_length_recursive(linked_list)\n",
    "print(f'The length of this linked list is {length}')\n",
    "# Should print 4 as length"
   ]
  },
  {
   "cell_type": "markdown",
   "metadata": {},
   "source": [
    "## Add a Node at the Head"
   ]
  },
  {
   "cell_type": "markdown",
   "metadata": {},
   "source": [
    "A function that adds a new node at the beginning of a doubly linked list"
   ]
  },
  {
   "cell_type": "code",
   "execution_count": 13,
   "metadata": {},
   "outputs": [],
   "source": [
    "def add_node(head, value):\n",
    "    new_node = Node(value)\n",
    "    new_node.next = head\n",
    "    head.prev = new_node\n",
    "    head = new_node\n",
    "    return head"
   ]
  },
  {
   "cell_type": "code",
   "execution_count": 14,
   "metadata": {},
   "outputs": [
    {
     "name": "stdout",
     "output_type": "stream",
     "text": [
      "2 <-> 4 <-> 3 <-> 5\n",
      "<------------------------->\n",
      "Forward\n",
      "6 <-> 2 <-> 4 <-> 3 <-> 5\n",
      "<------------------------->\n",
      "Backward\n",
      "5 <-> 3 <-> 4 <-> 2 <-> 6\n"
     ]
    }
   ],
   "source": [
    "print_doubly(linked_list)\n",
    "print('<------------------------->')\n",
    "linked_list = add_node(linked_list, 6)\n",
    "print('Forward')\n",
    "print_doubly(linked_list)\n",
    "print('<------------------------->')\n",
    "print('Backward')\n",
    "print_doubly_reverse(linked_list)"
   ]
  },
  {
   "cell_type": "markdown",
   "metadata": {},
   "source": [
    "## Add a Node at the Tail"
   ]
  },
  {
   "cell_type": "markdown",
   "metadata": {},
   "source": [
    "A function that adds a new node at the end of a doubly linked list"
   ]
  },
  {
   "cell_type": "code",
   "execution_count": 15,
   "metadata": {},
   "outputs": [],
   "source": [
    "def add_node_tail(head, value):\n",
    "    new_node = Node(value)\n",
    "    node = head\n",
    "    while node.next:\n",
    "        node = node.next\n",
    "    node.next = new_node\n",
    "    new_node.prev = node\n",
    "    return head"
   ]
  },
  {
   "cell_type": "code",
   "execution_count": 16,
   "metadata": {},
   "outputs": [
    {
     "name": "stdout",
     "output_type": "stream",
     "text": [
      "6 <-> 2 <-> 4 <-> 3 <-> 5\n",
      "<------------------------->\n",
      "Forward\n",
      "6 <-> 2 <-> 4 <-> 3 <-> 5 <-> 7\n",
      "<------------------------->\n",
      "Backward\n",
      "7 <-> 5 <-> 3 <-> 4 <-> 2 <-> 6\n"
     ]
    }
   ],
   "source": [
    "print_doubly(linked_list)\n",
    "print('<------------------------->')\n",
    "linked_list = add_node_tail(linked_list, 7)\n",
    "print('Forward')\n",
    "print_doubly(linked_list)\n",
    "print('<------------------------->')\n",
    "print('Backward')\n",
    "print_doubly_reverse(linked_list)"
   ]
  },
  {
   "cell_type": "markdown",
   "metadata": {},
   "source": [
    "## Get Node at Index"
   ]
  },
  {
   "cell_type": "code",
   "execution_count": 17,
   "metadata": {},
   "outputs": [],
   "source": [
    "def get_node(head, index):\n",
    "    if head and isinstance(head, Node):\n",
    "        if index and isinstance(index, int):\n",
    "            if index < 0 or index >= linked_list_length(head):\n",
    "                raise ValueError('Index must be within the length of the linked list')\n",
    "            node = head\n",
    "            for i in range(index ):\n",
    "                node = node.next\n",
    "            return node\n",
    "    raise ValueError('Head and index must not be null')"
   ]
  },
  {
   "cell_type": "code",
   "execution_count": 18,
   "metadata": {},
   "outputs": [
    {
     "name": "stdout",
     "output_type": "stream",
     "text": [
      "The value at index 4 is 5\n"
     ]
    }
   ],
   "source": [
    "index = 4\n",
    "node = get_node(linked_list, index)\n",
    "print(f'The value at index {index} is {node.data}')\n",
    "# Should be 5"
   ]
  },
  {
   "cell_type": "markdown",
   "metadata": {},
   "source": [
    "## Sum of Doubly Linked List"
   ]
  },
  {
   "cell_type": "code",
   "execution_count": 19,
   "metadata": {},
   "outputs": [],
   "source": [
    "def sum_of_linked_list(head):\n",
    "    counter = 0\n",
    "    if head:\n",
    "        node = head\n",
    "        while node:\n",
    "            counter += node.data\n",
    "            node = node.next\n",
    "        return counter\n",
    "    raise ValueError('Head must not be None')"
   ]
  },
  {
   "cell_type": "code",
   "execution_count": 20,
   "metadata": {},
   "outputs": [
    {
     "name": "stdout",
     "output_type": "stream",
     "text": [
      "The sum of this linked list is 27\n"
     ]
    }
   ],
   "source": [
    "result = sum_of_linked_list(linked_list)\n",
    "print(f'The sum of this linked list is {result}')\n",
    "# Should be 27"
   ]
  },
  {
   "cell_type": "markdown",
   "metadata": {},
   "source": [
    "## Insert Node at Index"
   ]
  },
  {
   "cell_type": "code",
   "execution_count": 21,
   "metadata": {},
   "outputs": [],
   "source": [
    "def insert_node(head, index, value):\n",
    "    if head and isinstance(head, Node):\n",
    "        if index and isinstance(index, int):\n",
    "            if index < 0 or index >= linked_list_length(head):\n",
    "                raise ValueError('Index must be within the length of the linked list')\n",
    "            new_node = Node(value)\n",
    "            if index == 0:\n",
    "                add_node(head, value)\n",
    "            node = head\n",
    "            for i in range(index - 1):\n",
    "                node = node.next\n",
    "            next_node_ref = node.next\n",
    "            node.next = new_node\n",
    "            new_node.prev = node\n",
    "            new_node.next = next_node_ref\n",
    "            next_node_ref.prev = new_node\n",
    "            return head\n",
    "    raise ValueError('Inputs musst be valid')"
   ]
  },
  {
   "cell_type": "code",
   "execution_count": 22,
   "metadata": {},
   "outputs": [
    {
     "name": "stdout",
     "output_type": "stream",
     "text": [
      "6 <-> 2 <-> 4 <-> 3 <-> 5 <-> 7\n",
      "<------------------------->\n",
      "Forward\n",
      "6 <-> 2 <-> 4 <-> 3 <-> 9 <-> 5 <-> 7\n",
      "<------------------------->\n",
      "Backward\n",
      "7 <-> 5 <-> 9 <-> 3 <-> 4 <-> 2 <-> 6\n"
     ]
    }
   ],
   "source": [
    "print_doubly(linked_list)\n",
    "print('<------------------------->')\n",
    "linked_list = insert_node(linked_list, 4, 9)\n",
    "print('Forward')\n",
    "print_doubly(linked_list)\n",
    "print('<------------------------->')\n",
    "print('Backward')\n",
    "print_doubly_reverse(linked_list)"
   ]
  },
  {
   "cell_type": "markdown",
   "metadata": {},
   "source": [
    "## Delete Node at Index"
   ]
  },
  {
   "cell_type": "code",
   "execution_count": 23,
   "metadata": {},
   "outputs": [],
   "source": [
    "def delete_node(head, index, value):\n",
    "    if head and isinstance(head, Node):\n",
    "        if index and isinstance(index, int):\n",
    "            if index < 0 or index >= linked_list_length(head):\n",
    "                raise ValueError('Index must be within the length of the linked list')\n",
    "            new_node = Node(value)\n",
    "            if index == 0:\n",
    "                head = head.next\n",
    "                head.prev = None\n",
    "                return head\n",
    "            node = head\n",
    "            for i in range(index - 1):\n",
    "                node = node.next\n",
    "            node.next = node.next.next\n",
    "            node.next.next.prev = node\n",
    "            return head\n",
    "    raise ValueError('Inputs musst be valid')"
   ]
  },
  {
   "cell_type": "code",
   "execution_count": 24,
   "metadata": {},
   "outputs": [
    {
     "name": "stdout",
     "output_type": "stream",
     "text": [
      "6 <-> 2 <-> 4 <-> 3 <-> 9 <-> 5 <-> 7\n",
      "<------------------------->\n",
      "Forward\n",
      "6 <-> 2 <-> 4 <-> 3 <-> 5 <-> 7\n",
      "<------------------------->\n",
      "Backward\n",
      "7 <-> 3 <-> 4 <-> 2 <-> 6\n"
     ]
    }
   ],
   "source": [
    "print_doubly(linked_list)\n",
    "print('<------------------------->')\n",
    "linked_list = delete_node(linked_list, 4, 9)\n",
    "print('Forward')\n",
    "print_doubly(linked_list)\n",
    "print('<------------------------->')\n",
    "print('Backward')\n",
    "print_doubly_reverse(linked_list)"
   ]
  }
 ],
 "metadata": {
  "kernelspec": {
   "display_name": "Python 3",
   "language": "python",
   "name": "python3"
  },
  "language_info": {
   "codemirror_mode": {
    "name": "ipython",
    "version": 3
   },
   "file_extension": ".py",
   "mimetype": "text/x-python",
   "name": "python",
   "nbconvert_exporter": "python",
   "pygments_lexer": "ipython3",
   "version": "3.7.6"
  },
  "toc": {
   "base_numbering": 1,
   "nav_menu": {},
   "number_sections": true,
   "sideBar": true,
   "skip_h1_title": false,
   "title_cell": "Table of Contents",
   "title_sidebar": "Contents",
   "toc_cell": false,
   "toc_position": {},
   "toc_section_display": true,
   "toc_window_display": false
  },
  "varInspector": {
   "cols": {
    "lenName": 16,
    "lenType": 16,
    "lenVar": 40
   },
   "kernels_config": {
    "python": {
     "delete_cmd_postfix": "",
     "delete_cmd_prefix": "del ",
     "library": "var_list.py",
     "varRefreshCmd": "print(var_dic_list())"
    },
    "r": {
     "delete_cmd_postfix": ") ",
     "delete_cmd_prefix": "rm(",
     "library": "var_list.r",
     "varRefreshCmd": "cat(var_dic_list()) "
    }
   },
   "types_to_exclude": [
    "module",
    "function",
    "builtin_function_or_method",
    "instance",
    "_Feature"
   ],
   "window_display": false
  }
 },
 "nbformat": 4,
 "nbformat_minor": 2
}
