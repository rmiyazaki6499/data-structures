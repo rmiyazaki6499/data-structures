{
 "cells": [
  {
   "cell_type": "markdown",
   "metadata": {},
   "source": [
    "# Implementing a Stack with a Linked List"
   ]
  },
  {
   "cell_type": "markdown",
   "metadata": {},
   "source": [
    "## Node Class"
   ]
  },
  {
   "cell_type": "code",
   "execution_count": 1,
   "metadata": {},
   "outputs": [],
   "source": [
    "class Node(object):\n",
    "  def __init__(self, x):\n",
    "    self.data = x\n",
    "    self.next = None"
   ]
  },
  {
   "cell_type": "markdown",
   "metadata": {},
   "source": [
    "## Stack Class"
   ]
  },
  {
   "cell_type": "code",
   "execution_count": 2,
   "metadata": {},
   "outputs": [],
   "source": [
    "class Stack():\n",
    "    def __init__(self):\n",
    "        self.head = None\n",
    "        self.length = 0\n",
    "        \n",
    "    def empty(self):\n",
    "        if self.head:\n",
    "            return False\n",
    "        else:\n",
    "            return True\n",
    "        \n",
    "    def size(self):\n",
    "        return self.length\n",
    "\n",
    "    def top(self):\n",
    "        return self.head.data\n",
    "    \n",
    "    def push(self, value):\n",
    "        if not value:\n",
    "            raise ValueError('Value must not be None')\n",
    "        \n",
    "        if not self.head:\n",
    "            self.head = Node(value)\n",
    "            self.length += 1\n",
    "\n",
    "        else:\n",
    "            new_node = Node(value)\n",
    "            new_node.next = self.head\n",
    "            self.head = new_node\n",
    "            self.length += 1\n",
    "            \n",
    "    def pop(self):\n",
    "        if self.head:\n",
    "            \n",
    "            if self.length == 1:\n",
    "                self.length -= 1\n",
    "                self.head = None\n",
    "                \n",
    "            else:\n",
    "                self.head = self.head.next\n",
    "                self.length -= 1\n",
    "        else:\n",
    "            print('Stack is Empty')\n",
    "            \n",
    "    def print_stack(self):\n",
    "        if self.head:\n",
    "            stack = []\n",
    "            current = self.head\n",
    "            while current:\n",
    "                stack.append(str(current.data))\n",
    "                current = current.next\n",
    "            print(' -> '.join(stack))"
   ]
  },
  {
   "cell_type": "markdown",
   "metadata": {},
   "source": [
    "## Testing the Stack methods"
   ]
  },
  {
   "cell_type": "markdown",
   "metadata": {},
   "source": [
    "###  Creating the Stack"
   ]
  },
  {
   "cell_type": "code",
   "execution_count": 3,
   "metadata": {},
   "outputs": [
    {
     "name": "stdout",
     "output_type": "stream",
     "text": [
      "This Stack is Empty: True\n",
      "Adding a few Nodes\n",
      "The top of the stack is 6\n",
      "6 -> 7 -> 8 -> 9\n",
      "The size of the stack is 4\n",
      "This Stack is Empty: False\n",
      "Removing the top Node\n",
      "The top of the stack is 7\n",
      "The size of the stack is 3\n",
      "7 -> 8 -> 9\n"
     ]
    }
   ],
   "source": [
    "stack = Stack()\n",
    "\n",
    "is_empty = stack.empty()\n",
    "print(f'This Stack is Empty: {is_empty}')\n",
    "\n",
    "print('Adding a few Nodes')\n",
    "\n",
    "stack.push(9)\n",
    "stack.push(8)\n",
    "stack.push(7)\n",
    "stack.push(6)\n",
    "\n",
    "top = stack.top()\n",
    "print(f'The top of the stack is {top}')\n",
    "\n",
    "stack.print_stack()\n",
    "\n",
    "size = stack.size()\n",
    "print(f'The size of the stack is {size}')\n",
    "\n",
    "is_empty = stack.empty()\n",
    "print(f'This Stack is Empty: {is_empty}')\n",
    "\n",
    "print('Removing the top Node')\n",
    "stack.pop()\n",
    "\n",
    "top = stack.top()\n",
    "print(f'The top of the stack is {top}')\n",
    "\n",
    "size = stack.size()\n",
    "print(f'The size of the stack is {size}')\n",
    "\n",
    "stack.print_stack()\n"
   ]
  }
 ],
 "metadata": {
  "kernelspec": {
   "display_name": "Python 3",
   "language": "python",
   "name": "python3"
  },
  "language_info": {
   "codemirror_mode": {
    "name": "ipython",
    "version": 3
   },
   "file_extension": ".py",
   "mimetype": "text/x-python",
   "name": "python",
   "nbconvert_exporter": "python",
   "pygments_lexer": "ipython3",
   "version": "3.7.6"
  },
  "toc": {
   "base_numbering": 1,
   "nav_menu": {},
   "number_sections": true,
   "sideBar": true,
   "skip_h1_title": false,
   "title_cell": "Table of Contents",
   "title_sidebar": "Contents",
   "toc_cell": false,
   "toc_position": {},
   "toc_section_display": true,
   "toc_window_display": false
  },
  "varInspector": {
   "cols": {
    "lenName": 16,
    "lenType": 16,
    "lenVar": 40
   },
   "kernels_config": {
    "python": {
     "delete_cmd_postfix": "",
     "delete_cmd_prefix": "del ",
     "library": "var_list.py",
     "varRefreshCmd": "print(var_dic_list())"
    },
    "r": {
     "delete_cmd_postfix": ") ",
     "delete_cmd_prefix": "rm(",
     "library": "var_list.r",
     "varRefreshCmd": "cat(var_dic_list()) "
    }
   },
   "types_to_exclude": [
    "module",
    "function",
    "builtin_function_or_method",
    "instance",
    "_Feature"
   ],
   "window_display": false
  }
 },
 "nbformat": 4,
 "nbformat_minor": 2
}
