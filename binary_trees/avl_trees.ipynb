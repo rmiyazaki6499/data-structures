{
 "cells": [
  {
   "cell_type": "markdown",
   "metadata": {},
   "source": [
    "# AVL Trees"
   ]
  },
  {
   "cell_type": "markdown",
   "metadata": {},
   "source": [
    "An **AVL tree** is a self-balancing **Binary Search Tree (BST)** where the difference between heights of left and right subtrees cannot be more than one for all nodes and rebalancing is done to restore this property.\n",
    "\n",
    "Maintaining this property allows for a time complexity of O(log n) time in both the average and worst cases which allows for overall efficiency.\n",
    "\n",
    "As a reminder **Binary Search Trees (BST)**, sometimes called ordered or sorted binary trees, are a particular type of container: a data structure that stores \"items\" (such as numbers, names etc.) in memory. They allow fast lookup, addition and removal of items, and can be used to implement either dynamic sets of items, or lookup tables that allow finding an item by its key (e.g., finding the phone number of a person by name).\n",
    "\n",
    "We will use the Python Library binarytree to visualize our tree to help us better understand what is going on.\n",
    "\n",
    "Make sure that you have the binarytree library installed. If not, find the details here: https://pypi.org/project/binarytree/"
   ]
  },
  {
   "cell_type": "code",
   "execution_count": 1,
   "metadata": {},
   "outputs": [],
   "source": [
    "from binarytree import Node"
   ]
  },
  {
   "cell_type": "markdown",
   "metadata": {},
   "source": [
    "# Check if a Binary Tree is an AVL Tree"
   ]
  },
  {
   "cell_type": "markdown",
   "metadata": {},
   "source": [
    "An AVL Tree is a node-based binary tree data structure which has the following properties:\n",
    "\n",
    "All of the qualities of a BST:\n",
    "1. The left subtree of a node contains only nodes with keys lesser than the node’s key.\n",
    "2. The right subtree of a node contains only nodes with keys greater than the node’s key.\n",
    "3. The left and right subtree each must also be a binary search tree.\n",
    "\n",
    "The Balance Factor of the Tree is always <= 1.\n",
    "\n",
    "Let's use two helper functions which checks each of these properties:"
   ]
  },
  {
   "cell_type": "code",
   "execution_count": 2,
   "metadata": {},
   "outputs": [
    {
     "name": "stdout",
     "output_type": "stream",
     "text": [
      "\n",
      "    __5\n",
      "   /   \\\n",
      "  2     21\n",
      " / \\\n",
      "1   3\n",
      "\n",
      "This tree is an AVL Tree\n",
      "\n",
      "    ____5\n",
      "   /     \\\n",
      "  2__     21\n",
      " /   \\\n",
      "1     3\n",
      "     /\n",
      "    4\n",
      "\n",
      "This tree is not an AVL Tree\n"
     ]
    }
   ],
   "source": [
    "def check_BST(root, lower = None, higher = None):\n",
    "    if not root:\n",
    "        return True\n",
    "    if lower and root.value < lower:\n",
    "        return False\n",
    "    if higher and root.value > higher:\n",
    "        return False\n",
    "    return check_BST(root.left, lower, root.value) and check_BST(root.right, root.value, higher)\n",
    "\n",
    "def find_height(root):\n",
    "    if not root:\n",
    "        return -1\n",
    "    left = find_height(root.left)\n",
    "    if left == float('-inf'):\n",
    "        return float('-inf')\n",
    "    right = find_height(root.right)\n",
    "    if right == float('-inf'):\n",
    "        return float('-inf')\n",
    "    if abs(left - right) > 1:\n",
    "        return float('-inf')\n",
    "    return max(left, right) + 1\n",
    "    \n",
    "def check_balanced(root): \n",
    "    return find_height(root) != float('-inf')\n",
    "    \n",
    "def check_AVL(root):\n",
    "    if not root:\n",
    "        return True\n",
    "    return check_BST(root) and check_balanced(root)\n",
    "    \n",
    "def if_AVL(root):\n",
    "    if check_AVL(root):\n",
    "        print(\"This tree is an AVL Tree\")\n",
    "    else:\n",
    "        print(\"This tree is not an AVL Tree\")\n",
    "        \n",
    "root = Node(5)\n",
    "root.left = Node(2)\n",
    "root.left.left = Node(1)\n",
    "root.left.right = Node(3)\n",
    "root.right = Node(21)\n",
    "\n",
    "print(root)\n",
    "if_AVL(root)\n",
    "root.left.right.left = Node(4)\n",
    "print(root)\n",
    "if_AVL(root)"
   ]
  },
  {
   "cell_type": "markdown",
   "metadata": {},
   "source": [
    "**This solution has the time complexity of O(n) because we will have to traverse through every node in the tree to check height of each subtree**"
   ]
  },
  {
   "cell_type": "markdown",
   "metadata": {},
   "source": [
    "#  Insert a Node into a AVL Tree"
   ]
  },
  {
   "cell_type": "markdown",
   "metadata": {},
   "source": [
    "To make sure that the given tree remains AVL after every insertion, we must augment the standard BST insert operation to perform some re-balancing. Following are two basic operations that can be performed to re-balance a BST without violating the BST property (keys(left) < key(root) < keys(right)).\n",
    "\n",
    "We will take these steps:\n",
    "1. Insert the Node as we would for a BST\n",
    "2. From the new Node, travel up and find the first unbalanced node. Let z be the first unbalanced node, y be the child of z that comes on the path from w to z and x be the grandchild of z that comes on the path from w to z.\n",
    "3. Re-balance the tree by performing appropriate rotations on the subtree rooted with z. There can be 4 possible cases that needs to be handled as x, y and z can be arranged in 4 ways. \n",
    "\n",
    "Following are the possible 4 arrangements:\n",
    "1. y is left child of z and x is left child of y (Left Left Case)\n",
    "2. y is left child of z and x is right child of y (Left Right Case)\n",
    "3. y is right child of z and x is right child of y (Right Right Case)\n",
    "4. y is right child of z and x is left child of y (Right Left Case)"
   ]
  },
  {
   "cell_type": "markdown",
   "metadata": {},
   "source": [
    "## Rotate the Binary Tree Left"
   ]
  },
  {
   "cell_type": "markdown",
   "metadata": {},
   "source": [
    "Tree rotation is an operation on a binary tree that changes the structure without interfering with the order of the elements. A tree rotation moves one node up in the tree and one node down. It is used to change the shape of the tree, and in particular to decrease its height by moving smaller subtrees down and larger subtrees up, resulting in improved performance of many tree operations.\n",
    "\n",
    "Rotating becomes important to Balance out a special kind of binary tree called a Binary Search Tree to maximize it's qualities."
   ]
  },
  {
   "cell_type": "code",
   "execution_count": 3,
   "metadata": {},
   "outputs": [
    {
     "name": "stdout",
     "output_type": "stream",
     "text": [
      "\n",
      "    ____5\n",
      "   /     \\\n",
      "  2__     21\n",
      " /   \\\n",
      "1     3\n",
      "     /\n",
      "    4\n",
      "\n",
      "\n",
      "          21\n",
      "         /\n",
      "    ____5\n",
      "   /\n",
      "  2__\n",
      " /   \\\n",
      "1     3\n",
      "     /\n",
      "    4\n",
      "\n"
     ]
    }
   ],
   "source": [
    "def rotate_left(root):\n",
    "    if root and root.right:\n",
    "        pivot = root.right\n",
    "        root.right = pivot.left\n",
    "        pivot.left = root\n",
    "        root = pivot\n",
    "    return root\n",
    "\n",
    "print(root)\n",
    "root = rotate_left(root)\n",
    "print(root)"
   ]
  },
  {
   "cell_type": "markdown",
   "metadata": {},
   "source": [
    "**This solution has the time complexity of O(1) because we are just swapping nodes**"
   ]
  },
  {
   "cell_type": "markdown",
   "metadata": {},
   "source": [
    "## Rotate the Binary Tree Right"
   ]
  },
  {
   "cell_type": "code",
   "execution_count": null,
   "metadata": {},
   "outputs": [],
   "source": []
  }
 ],
 "metadata": {
  "kernelspec": {
   "display_name": "Python 3",
   "language": "python",
   "name": "python3"
  },
  "language_info": {
   "codemirror_mode": {
    "name": "ipython",
    "version": 3
   },
   "file_extension": ".py",
   "mimetype": "text/x-python",
   "name": "python",
   "nbconvert_exporter": "python",
   "pygments_lexer": "ipython3",
   "version": "3.7.5"
  },
  "toc": {
   "base_numbering": 1,
   "nav_menu": {},
   "number_sections": true,
   "sideBar": true,
   "skip_h1_title": false,
   "title_cell": "Table of Contents",
   "title_sidebar": "Contents",
   "toc_cell": false,
   "toc_position": {},
   "toc_section_display": true,
   "toc_window_display": false
  },
  "varInspector": {
   "cols": {
    "lenName": 16,
    "lenType": 16,
    "lenVar": 40
   },
   "kernels_config": {
    "python": {
     "delete_cmd_postfix": "",
     "delete_cmd_prefix": "del ",
     "library": "var_list.py",
     "varRefreshCmd": "print(var_dic_list())"
    },
    "r": {
     "delete_cmd_postfix": ") ",
     "delete_cmd_prefix": "rm(",
     "library": "var_list.r",
     "varRefreshCmd": "cat(var_dic_list()) "
    }
   },
   "types_to_exclude": [
    "module",
    "function",
    "builtin_function_or_method",
    "instance",
    "_Feature"
   ],
   "window_display": false
  }
 },
 "nbformat": 4,
 "nbformat_minor": 2
}
