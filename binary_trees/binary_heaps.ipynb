{
 "cells": [
  {
   "cell_type": "markdown",
   "metadata": {},
   "source": [
    "# Binary Heap Tree"
   ]
  },
  {
   "cell_type": "markdown",
   "metadata": {},
   "source": [
    "A **Binary Heap Tree** is a heap data structure that takes the form of a binary tree. Binary heaps are a common way of implementing priority queues and a heap sort.\n",
    "\n",
    "Remember, a binary tree is a tree data structure in which each node has at most two children, which are referred to as the left child and the right child.\n",
    "\n",
    "A binary heap is defined as a binary tree with two additional constraints:\n",
    "\n",
    "1. Shape property: a binary heap is a complete binary tree; that is, all levels of the tree, except possibly the last one (deepest) are fully filled, and, if the last level of the tree is not complete, the nodes of that level are filled from left to right.\n",
    "2. Heap property: the key stored in each node is either greater than or equal to (≥) or less than or equal to (≤) the keys in the node's children, according to some total order.\n",
    "\n",
    "We will use the Python Library binarytree to visualize our tree to help us better understand what is going on.\n",
    "\n",
    "Make sure that you have the binarytree library installed. If not, find the details here: https://pypi.org/project/binarytree/\n",
    "\n",
    "*Definitions taken from Wikipedia https://en.wikipedia.org/wiki/Binary_heap*"
   ]
  },
  {
   "cell_type": "code",
   "execution_count": 2,
   "metadata": {},
   "outputs": [
    {
     "ename": "ModuleNotFoundError",
     "evalue": "No module named 'binarytree'",
     "output_type": "error",
     "traceback": [
      "\u001b[0;31m---------------------------------------------------------------------------\u001b[0m",
      "\u001b[0;31mModuleNotFoundError\u001b[0m                       Traceback (most recent call last)",
      "\u001b[0;32m<ipython-input-2-1582d53b7112>\u001b[0m in \u001b[0;36m<module>\u001b[0;34m\u001b[0m\n\u001b[0;32m----> 1\u001b[0;31m \u001b[0;32mfrom\u001b[0m \u001b[0mbinarytree\u001b[0m \u001b[0;32mimport\u001b[0m \u001b[0mNode\u001b[0m\u001b[0;34m\u001b[0m\u001b[0;34m\u001b[0m\u001b[0m\n\u001b[0m",
      "\u001b[0;31mModuleNotFoundError\u001b[0m: No module named 'binarytree'"
     ]
    }
   ],
   "source": [
    "from binarytree import Node"
   ]
  },
  {
   "cell_type": "markdown",
   "metadata": {},
   "source": [
    "# Check if a Binary Tree is a Binary Heap Tree"
   ]
  },
  {
   "cell_type": "markdown",
   "metadata": {},
   "source": [
    "As mentioned above we will check for these two qualities in the tree:\n",
    "1. The tree is complete\n",
    "2. Every node’s value should be greater than or equal to its child node in a Max heap, and vice versa for a Min heap.\n",
    "\n",
    "We will use the check_complete function we created in our Binary Tree notebook to help us check if the tree is complete.\n",
    "\n"
   ]
  },
  {
   "cell_type": "code",
   "execution_count": null,
   "metadata": {},
   "outputs": [],
   "source": [
    "def check_complete(root):\n",
    "     if root:\n",
    "        queue = [root]\n",
    "        flag = False\n",
    "        while queue:\n",
    "            node = queue.pop()\n",
    "            if flag and (node.left or node.right):\n",
    "                return False\n",
    "            if node.left:\n",
    "                 queue.insert(0, node.left)\n",
    "            else:\n",
    "                flag = True\n",
    "            if node.right:\n",
    "                queue.insert(0, node.right)\n",
    "            else:\n",
    "                flag = True\n",
    "        return True\n",
    "\n",
    "def check_maxheap(root):\n",
    "    if not root.left and not root.right:\n",
    "        return True\n",
    "    if not root.right:\n",
    "        return root.value >= root.left.value\n",
    "    if root. value and root.value >= root.left.value and root.value >= root.right.value:\n",
    "        return check_maxheap(root.left) and check_maxheap(root.right)\n",
    "    else:\n",
    "        return False\n",
    "\n",
    "def check_binaryheap(root):\n",
    "    if not check_complete(root):\n",
    "        return False\n",
    "    return check_maxheap(root)\n",
    "\n",
    "def if_BinaryHeap(root):\n",
    "    if check_binaryheap(root):\n",
    "        print(\"This tree is a Binary Heap Tree\")\n",
    "    else:\n",
    "        print(\"This tree is not a Binary Heap Tree\")\n",
    "\n",
    "root = Node(98)\n",
    "root.left = Node(90)\n",
    "root.left.left = Node(79)\n",
    "root.left.right = Node(80)\n",
    "root.right = Node(85)\n",
    "\n",
    "print(root)\n",
    "if_BinaryHeap(root)\n",
    "\n",
    "# Add an extra node\n",
    "\n",
    "root.right.left = Node(97)\n",
    "print(root)\n",
    "if_BinaryHeap(root)\n",
    "\n",
    "# Move node to right of right branch\n",
    "\n",
    "root.right.left = None\n",
    "root.right.right = Node(79)\n",
    "print(root)\n",
    "if_BinaryHeap(root)"
   ]
  },
  {
   "cell_type": "code",
   "execution_count": null,
   "metadata": {},
   "outputs": [],
   "source": []
  },
  {
   "cell_type": "code",
   "execution_count": null,
   "metadata": {},
   "outputs": [],
   "source": []
  }
 ],
 "metadata": {
  "kernelspec": {
   "display_name": "Python 3",
   "language": "python",
   "name": "python3"
  },
  "language_info": {
   "codemirror_mode": {
    "name": "ipython",
    "version": 3
   },
   "file_extension": ".py",
   "mimetype": "text/x-python",
   "name": "python",
   "nbconvert_exporter": "python",
   "pygments_lexer": "ipython3",
   "version": "3.7.6"
  },
  "toc": {
   "base_numbering": 1,
   "nav_menu": {},
   "number_sections": true,
   "sideBar": true,
   "skip_h1_title": false,
   "title_cell": "Table of Contents",
   "title_sidebar": "Contents",
   "toc_cell": false,
   "toc_position": {},
   "toc_section_display": true,
   "toc_window_display": false
  },
  "varInspector": {
   "cols": {
    "lenName": 16,
    "lenType": 16,
    "lenVar": 40
   },
   "kernels_config": {
    "python": {
     "delete_cmd_postfix": "",
     "delete_cmd_prefix": "del ",
     "library": "var_list.py",
     "varRefreshCmd": "print(var_dic_list())"
    },
    "r": {
     "delete_cmd_postfix": ") ",
     "delete_cmd_prefix": "rm(",
     "library": "var_list.r",
     "varRefreshCmd": "cat(var_dic_list()) "
    }
   },
   "types_to_exclude": [
    "module",
    "function",
    "builtin_function_or_method",
    "instance",
    "_Feature"
   ],
   "window_display": false
  }
 },
 "nbformat": 4,
 "nbformat_minor": 2
}
